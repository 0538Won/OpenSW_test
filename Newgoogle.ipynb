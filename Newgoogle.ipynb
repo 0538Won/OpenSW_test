{
  "nbformat": 4,
  "nbformat_minor": 0,
  "metadata": {
    "colab": {
      "provenance": [],
      "authorship_tag": "ABX9TyOK/3k96nsD0ofIP+hVMIaH",
      "include_colab_link": true
    },
    "kernelspec": {
      "name": "python3",
      "display_name": "Python 3"
    },
    "language_info": {
      "name": "python"
    }
  },
  "cells": [
    {
      "cell_type": "markdown",
      "metadata": {
        "id": "view-in-github",
        "colab_type": "text"
      },
      "source": [
        "<a href=\"https://colab.research.google.com/github/kitking123/OpenSW_test/blob/master/Newgoogle.ipynb\" target=\"_parent\"><img src=\"https://colab.research.google.com/assets/colab-badge.svg\" alt=\"Open In Colab\"/></a>"
      ]
    },
    {
      "cell_type": "markdown",
      "source": [
        "First googlecolab code"
      ],
      "metadata": {
        "id": "9tWGYin2G0Kk"
      }
    },
    {
      "cell_type": "code",
      "execution_count": 17,
      "metadata": {
        "colab": {
          "base_uri": "https://localhost:8080/"
        },
        "id": "rLnGC-x8DWoB",
        "outputId": "c9a7ebbd-5935-42b2-b7a9-93ff63cea786"
      },
      "outputs": [
        {
          "output_type": "stream",
          "name": "stdout",
          "text": [
            "80\n",
            "160\n",
            "240\n",
            "320\n",
            "400\n",
            "480\n",
            "560\n",
            "640\n",
            "720\n"
          ]
        }
      ],
      "source": [
        "a = 4\n",
        "b = 0\n",
        "for i in range(9):\n",
        "  b = 4*(i+1)*20\n",
        "  print(b)"
      ]
    },
    {
      "cell_type": "code",
      "source": [
        "with open('/gdrive/My Drive/test.txt', 'w')as f:\n",
        "    f.writelines(\"Hello Google Colab!\")"
      ],
      "metadata": {
        "id": "oneOs4hNQ2-8"
      },
      "execution_count": 16,
      "outputs": []
    }
  ]
}