{
  "nbformat": 4,
  "nbformat_minor": 0,
  "metadata": {
    "colab": {
      "provenance": [],
      "authorship_tag": "ABX9TyNEqqJ19hXd9adkSA5DgZpu",
      "include_colab_link": true
    },
    "kernelspec": {
      "name": "python3",
      "display_name": "Python 3"
    },
    "language_info": {
      "name": "python"
    }
  },
  "cells": [
    {
      "cell_type": "markdown",
      "metadata": {
        "id": "view-in-github",
        "colab_type": "text"
      },
      "source": [
        "<a href=\"https://colab.research.google.com/github/kitking123/OpenSW_test/blob/master/Newgoogle.ipynb\" target=\"_parent\"><img src=\"https://colab.research.google.com/assets/colab-badge.svg\" alt=\"Open In Colab\"/></a>"
      ]
    },
    {
      "cell_type": "markdown",
      "source": [
        "First googlecolab code"
      ],
      "metadata": {
        "id": "9tWGYin2G0Kk"
      }
    },
    {
      "cell_type": "code",
      "execution_count": 4,
      "metadata": {
        "colab": {
          "base_uri": "https://localhost:8080/"
        },
        "id": "rLnGC-x8DWoB",
        "outputId": "e3acb32c-1884-413c-f4a8-55e4edf10794"
      },
      "outputs": [
        {
          "output_type": "stream",
          "name": "stdout",
          "text": [
            "4\n",
            "40\n",
            "80\n",
            "120\n",
            "160\n",
            "200\n",
            "240\n",
            "280\n",
            "320\n",
            "360\n"
          ]
        }
      ],
      "source": [
        "a = int(input())\n",
        "b = 0\n",
        "for i in range(9):\n",
        "  b = a*(i+1)*10\n",
        "  print(b)"
      ]
    },
    {
      "cell_type": "code",
      "source": [
        "with open('/gdrive/My Drive/test.txt', 'w')as f:\n",
        "    f.writelines(\"Hello Google Colab!\")"
      ],
      "metadata": {
        "id": "oneOs4hNQ2-8"
      },
      "execution_count": 16,
      "outputs": []
    }
  ]
}